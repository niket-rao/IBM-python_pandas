{
  "nbformat": 4,
  "nbformat_minor": 0,
  "metadata": {
    "colab": {
      "provenance": []
    },
    "kernelspec": {
      "name": "python3",
      "display_name": "Python 3"
    },
    "language_info": {
      "name": "python"
    }
  },
  "cells": [
    {
      "cell_type": "code",
      "execution_count": 5,
      "metadata": {
        "colab": {
          "base_uri": "https://localhost:8080/"
        },
        "id": "AdMemQhXVrrI",
        "outputId": "c9f9b843-b285-4f5e-fa21-341045cc80f3"
      },
      "outputs": [
        {
          "output_type": "stream",
          "name": "stdout",
          "text": [
            "         name age\n",
            "True   Aniket  18\n",
            "True   manish  26\n",
            "False  Srejal  17\n",
            "True    rahul  50\n"
          ]
        }
      ],
      "source": [
        "import pandas as pd\n",
        "dict={\"name\":[\"Aniket\",\"manish\",\"Srejal\",\"rahul\"],\n",
        "'age':[\"18\",\"26\",\"17\",\"50\"]}\n",
        "info=pd.DataFrame(dict,index=[True,True,False,True])\n",
        "print(info)\n"
      ]
    },
    {
      "cell_type": "code",
      "source": [
        "import numpy as np\n",
        "arr=np.arange(16)\n",
        "print(\"the Original array is:\\n\",arr)\n",
        "arr=np.arange(16).reshape(2,8)\n",
        "print(\"\\nreshapedarray:\\n\",arr)\n",
        "arr=np.arange(16).reshape(8,2)\n",
        "print(\"\\nreshaped array:\\n\",arr)"
      ],
      "metadata": {
        "colab": {
          "base_uri": "https://localhost:8080/"
        },
        "id": "GhkFIDOwZqI_",
        "outputId": "e6801e2b-aefb-4d1a-af9d-1e85117172f6"
      },
      "execution_count": 11,
      "outputs": [
        {
          "output_type": "stream",
          "name": "stdout",
          "text": [
            "the Original array is:\n",
            " [ 0  1  2  3  4  5  6  7  8  9 10 11 12 13 14 15]\n",
            "\n",
            "reshapedarray:\n",
            " [[ 0  1  2  3  4  5  6  7]\n",
            " [ 8  9 10 11 12 13 14 15]]\n",
            "\n",
            "reshaped array:\n",
            " [[ 0  1]\n",
            " [ 2  3]\n",
            " [ 4  5]\n",
            " [ 6  7]\n",
            " [ 8  9]\n",
            " [10 11]\n",
            " [12 13]\n",
            " [14 15]]\n"
          ]
        }
      ]
    },
    {
      "cell_type": "code",
      "source": [],
      "metadata": {
        "id": "-j0W1rGLfOiZ"
      },
      "execution_count": null,
      "outputs": []
    }
  ]
}